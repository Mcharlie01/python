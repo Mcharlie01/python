{
 "cells": [
  {
   "cell_type": "markdown",
   "id": "849617f4",
   "metadata": {},
   "source": [
    "une boucle qui prend une liste et en crée une deuxième avec des valeurs correspondantes à la nouvelle "
   ]
  },
  {
   "cell_type": "code",
   "execution_count": 2,
   "id": "f18b719c",
   "metadata": {},
   "outputs": [
    {
     "data": {
      "text/plain": [
       "[]"
      ]
     },
     "execution_count": 2,
     "metadata": {},
     "output_type": "execute_result"
    }
   ],
   "source": [
    "listeA = [1, 2, 3, 1, 2]\n",
    "nelle_list= []\n",
    "for i in listeA :\n",
    "    for b in nelle_list:\n",
    "        if i == 1 :\n",
    "            b in nelle_list == 'maison'\n",
    "        if i == 2 : \n",
    "            b in nelle_list == 'immeuble'\n",
    "        if i == 3 :\n",
    "            b in nelle_list == 'chateau'\n",
    "        nelle_list.append(b)\n",
    "    \n",
    "nelle_list"
   ]
  },
  {
   "cell_type": "code",
   "execution_count": 1,
   "id": "c418a257",
   "metadata": {},
   "outputs": [
    {
     "data": {
      "text/plain": [
       "['maison', 'immeuble', 'chateau', 'maison', 'immeuble']"
      ]
     },
     "execution_count": 1,
     "metadata": {},
     "output_type": "execute_result"
    }
   ],
   "source": [
    "mapping = {1: \"maison\", 2: \"immeuble\", 3: \"chateau\"}\n",
    "listeA = [1, 2, 3, 1, 2]\n",
    "nelle_list = [mapping[indice] for indice in listeA]\n",
    "\n",
    "nelle_list"
   ]
  },
  {
   "cell_type": "code",
   "execution_count": null,
   "id": "fbd3f425",
   "metadata": {},
   "outputs": [],
   "source": []
  }
 ],
 "metadata": {
  "kernelspec": {
   "display_name": "Python 3 (ipykernel)",
   "language": "python",
   "name": "python3"
  },
  "language_info": {
   "codemirror_mode": {
    "name": "ipython",
    "version": 3
   },
   "file_extension": ".py",
   "mimetype": "text/x-python",
   "name": "python",
   "nbconvert_exporter": "python",
   "pygments_lexer": "ipython3",
   "version": "3.9.12"
  }
 },
 "nbformat": 4,
 "nbformat_minor": 5
}
